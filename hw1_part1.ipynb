{
  "nbformat": 4,
  "nbformat_minor": 0,
  "metadata": {
    "colab": {
      "name": "hw1_part1.ipynb",
      "provenance": []
    },
    "kernelspec": {
      "name": "python3",
      "display_name": "Python 3"
    }
  },
  "cells": [
    {
      "cell_type": "code",
      "metadata": {
        "id": "IlcCQOjRnjfM",
        "colab_type": "code",
        "colab": {
          "base_uri": "https://localhost:8080/",
          "height": 168
        },
        "outputId": "e83db033-c4fe-4987-aea4-fc8431d72a9d"
      },
      "source": [
        "import numpy as np\n",
        "import tensorflow as tf\n",
        "\n",
        "from google.colab import drive\n",
        "drive.mount('/content/drive')"
      ],
      "execution_count": 1,
      "outputs": [
        {
          "output_type": "display_data",
          "data": {
            "text/html": [
              "<p style=\"color: red;\">\n",
              "The default version of TensorFlow in Colab will soon switch to TensorFlow 2.x.<br>\n",
              "We recommend you <a href=\"https://www.tensorflow.org/guide/migrate\" target=\"_blank\">upgrade</a> now \n",
              "or ensure your notebook will continue to use TensorFlow 1.x via the <code>%tensorflow_version 1.x</code> magic:\n",
              "<a href=\"https://colab.research.google.com/notebooks/tensorflow_version.ipynb\" target=\"_blank\">more info</a>.</p>\n"
            ],
            "text/plain": [
              "<IPython.core.display.HTML object>"
            ]
          },
          "metadata": {
            "tags": []
          }
        },
        {
          "output_type": "stream",
          "text": [
            "Go to this URL in a browser: https://accounts.google.com/o/oauth2/auth?client_id=947318989803-6bn6qk8qdgf4n4g3pfee6491hc0brc4i.apps.googleusercontent.com&redirect_uri=urn%3aietf%3awg%3aoauth%3a2.0%3aoob&response_type=code&scope=email%20https%3a%2f%2fwww.googleapis.com%2fauth%2fdocs.test%20https%3a%2f%2fwww.googleapis.com%2fauth%2fdrive%20https%3a%2f%2fwww.googleapis.com%2fauth%2fdrive.photos.readonly%20https%3a%2f%2fwww.googleapis.com%2fauth%2fpeopleapi.readonly\n",
            "\n",
            "Enter your authorization code:\n",
            "··········\n",
            "Mounted at /content/drive\n"
          ],
          "name": "stdout"
        }
      ]
    },
    {
      "cell_type": "code",
      "metadata": {
        "id": "Mux51Y6QnvJa",
        "colab_type": "code",
        "colab": {}
      },
      "source": [
        "file_slp3 = '/content/drive/My Drive/slp3.txt'\n",
        "file_slp2 = '/content/drive/My Drive/slp2.txt'\n",
        "f_slp3 = open(file_slp3, 'r')\n",
        "f_slp2 = open(file_slp2, 'r')\n",
        "slp3 = f_slp3.readlines()\n",
        "slp2 = f_slp2.readlines()"
      ],
      "execution_count": 0,
      "outputs": []
    },
    {
      "cell_type": "code",
      "metadata": {
        "id": "cMZK1AJgn9UE",
        "colab_type": "code",
        "colab": {}
      },
      "source": [
        "import nltk"
      ],
      "execution_count": 0,
      "outputs": []
    },
    {
      "cell_type": "code",
      "metadata": {
        "id": "tRqOv8Hgn95g",
        "colab_type": "code",
        "colab": {
          "base_uri": "https://localhost:8080/",
          "height": 54
        },
        "outputId": "2b867ab4-e181-4fdb-bafa-e9d127483c6e"
      },
      "source": [
        "temp = []\n",
        "for thing in slp3:\n",
        "    thing = thing.split('\\n')\n",
        "    temp.append(thing[0])\n",
        "\n",
        "tmp = []\n",
        "for thing in temp:\n",
        "    thing = thing.split(' .')\n",
        "    tmp.append(thing[0])\n",
        "\n",
        "vocabtemp = []\n",
        "for thing in tmp:\n",
        "    if len(thing) > 3:\n",
        "        vocabtemp.append(thing)\n",
        "        \n",
        "vocab = []\n",
        "for thing in vocabtemp:\n",
        "    for stuff in thing.split(','):\n",
        "        vocab.append(stuff)\n",
        "\n",
        "vocabs = []\n",
        "for thing in vocab:\n",
        "    for stuff in thing.split(' '):\n",
        "        vocabs.append(stuff)\n",
        "\n",
        "words_slp3 = []\n",
        "for thing in vocabs:\n",
        "    if '.' in thing:\n",
        "        words_slp3.append(thing[:-1])\n",
        "    elif thing != '' and thing != '191':\n",
        "        words_slp3.append(thing)\n",
        "\n",
        "print(words_slp3)"
      ],
      "execution_count": 4,
      "outputs": [
        {
          "output_type": "stream",
          "text": [
            "['Summary', 'of', 'Contents', 'Introduction', 'Regular', 'Expressions', 'Text', 'Normalization', 'Edit', 'Distance', 'N-gram', 'Language', 'Models', 'Naive', 'Bayes', 'and', 'Sentiment', 'Classification', 'Logistic', 'Regression', 'Vector', 'Semantics', 'and', 'Embeddings', 'Neural', 'Networks', 'and', 'Neural', 'Language', 'Models', 'Part-of-Speech', 'Tagging', 'Sequence', 'Processing', 'with', 'Recurrent', 'Networks', 'Encoder-Decoder', 'Models', 'Attention', 'and', 'Contextual', 'Embeddings', 'Machine', 'Translation', 'Constituency', 'Grammars', 'Constituency', 'Parsing', 'Statistical', 'Constituency', 'Parsing', 'Dependency', 'Parsing', 'Logical', 'Representations', 'of', 'Sentence', 'Meaning', 'Computational', 'Semantics', 'and', 'Semantic', 'Parsing', 'Information', 'Extraction', 'Word', 'Senses', 'and', 'WordNet', 'Semantic', 'Role', 'Labeling', 'Lexicons', 'for', 'Sentiment', 'Affect', 'and', 'Connotation', 'Coreference', 'Resolution', 'Discourse', 'Coherence', 'Summarization', 'Question', 'Answering', 'Dialogue', 'Systems', 'and', 'Chatbots', 'Phonetics', 'Speech', 'Recognition', 'and', 'Synthesis', 'Appendix', 'A', 'Hidden', 'Markov', 'Models']\n"
          ],
          "name": "stdout"
        }
      ]
    },
    {
      "cell_type": "code",
      "metadata": {
        "id": "S8KrjjBln98w",
        "colab_type": "code",
        "colab": {
          "base_uri": "https://localhost:8080/",
          "height": 71
        },
        "outputId": "7b606c76-cc85-4276-e18b-e2ef7a24e348"
      },
      "source": [
        "temp = []\n",
        "for thing in slp2:\n",
        "    thing = thing.split('\\n')\n",
        "    temp.append(thing[0])\n",
        "\n",
        "tmp = []\n",
        "for thing in temp:\n",
        "    thing = thing.split(' .')\n",
        "    tmp.append(thing[0])\n",
        "\n",
        "vocabtemp = []\n",
        "for thing in tmp:\n",
        "    if len(thing) > 3:\n",
        "        vocabtemp.append(thing)\n",
        "        \n",
        "vocab = []\n",
        "for thing in vocabtemp:\n",
        "    for stuff in thing.split(','):\n",
        "        vocab.append(stuff)\n",
        "\n",
        "vocabs = []\n",
        "for thing in vocab:\n",
        "    for stuff in thing.split(' '):\n",
        "        vocabs.append(stuff)\n",
        "\n",
        "words_slp2 = []\n",
        "for thing in vocabs:\n",
        "    if '.' in thing:\n",
        "        words_slp2.append(thing[:-1])\n",
        "    elif thing != '' and thing != '&' and thing != '1' and thing != 'I' and thing != 'II' and thing != 'III' and thing != 'IV':\n",
        "        words_slp2.append(thing)\n",
        "print(words_slp2.index('Recognition:'))\n",
        "words_slp2[29] = 'Recognition'\n",
        "print(words_slp2)"
      ],
      "execution_count": 5,
      "outputs": [
        {
          "output_type": "stream",
          "text": [
            "29\n",
            "['Summary', 'of', 'Contents', 'Preface', 'Introduction', 'Words', 'Regular', 'Expressions', 'and', 'Automata', 'Words', 'Transducers', 'N-grams', 'Part-of-Speech', 'Tagging', 'Hidden', 'Markov', 'and', 'Maximum', 'Entropy', 'Models', 'Speech', 'Phonetics', 'Speech', 'Synthesis', 'Automatic', 'Speech', 'Recognition', 'Speech', 'Recognition', 'Advanced', 'Topics', 'Computational', 'Phonology', 'Syntax', 'Formal', 'Grammars', 'of', 'English', 'Parsing', 'with', 'Context-Free', 'Grammars', 'Statistical', 'Parsing', 'Features', 'and', 'Unification', 'Language', 'and', 'Complexity', 'Semantics', 'and', 'Pragmatics', 'Representing', 'Meaning', 'Computational', 'Semantics', 'Lexical', 'Semantics', 'Computational', 'Lexical', 'Semantics', 'Computational', 'Discourse', 'Applications', 'Information', 'Extraction', 'Question', 'Answering', 'and', 'Summarization', 'Dialogue', 'and', 'Conversational', 'Agents', 'Machine', 'Translation', 'Bibliography', 'Index']\n"
          ],
          "name": "stdout"
        }
      ]
    },
    {
      "cell_type": "code",
      "metadata": {
        "id": "df_84njEn9_k",
        "colab_type": "code",
        "colab": {
          "base_uri": "https://localhost:8080/",
          "height": 105
        },
        "outputId": "6237e1ed-9cd4-4973-8377-77eba20795d7"
      },
      "source": [
        "print(words_slp3)\n",
        "print(words_slp2)\n",
        "print(len(words_slp3))\n",
        "print(len(words_slp2))"
      ],
      "execution_count": 6,
      "outputs": [
        {
          "output_type": "stream",
          "text": [
            "['Summary', 'of', 'Contents', 'Introduction', 'Regular', 'Expressions', 'Text', 'Normalization', 'Edit', 'Distance', 'N-gram', 'Language', 'Models', 'Naive', 'Bayes', 'and', 'Sentiment', 'Classification', 'Logistic', 'Regression', 'Vector', 'Semantics', 'and', 'Embeddings', 'Neural', 'Networks', 'and', 'Neural', 'Language', 'Models', 'Part-of-Speech', 'Tagging', 'Sequence', 'Processing', 'with', 'Recurrent', 'Networks', 'Encoder-Decoder', 'Models', 'Attention', 'and', 'Contextual', 'Embeddings', 'Machine', 'Translation', 'Constituency', 'Grammars', 'Constituency', 'Parsing', 'Statistical', 'Constituency', 'Parsing', 'Dependency', 'Parsing', 'Logical', 'Representations', 'of', 'Sentence', 'Meaning', 'Computational', 'Semantics', 'and', 'Semantic', 'Parsing', 'Information', 'Extraction', 'Word', 'Senses', 'and', 'WordNet', 'Semantic', 'Role', 'Labeling', 'Lexicons', 'for', 'Sentiment', 'Affect', 'and', 'Connotation', 'Coreference', 'Resolution', 'Discourse', 'Coherence', 'Summarization', 'Question', 'Answering', 'Dialogue', 'Systems', 'and', 'Chatbots', 'Phonetics', 'Speech', 'Recognition', 'and', 'Synthesis', 'Appendix', 'A', 'Hidden', 'Markov', 'Models']\n",
            "['Summary', 'of', 'Contents', 'Preface', 'Introduction', 'Words', 'Regular', 'Expressions', 'and', 'Automata', 'Words', 'Transducers', 'N-grams', 'Part-of-Speech', 'Tagging', 'Hidden', 'Markov', 'and', 'Maximum', 'Entropy', 'Models', 'Speech', 'Phonetics', 'Speech', 'Synthesis', 'Automatic', 'Speech', 'Recognition', 'Speech', 'Recognition', 'Advanced', 'Topics', 'Computational', 'Phonology', 'Syntax', 'Formal', 'Grammars', 'of', 'English', 'Parsing', 'with', 'Context-Free', 'Grammars', 'Statistical', 'Parsing', 'Features', 'and', 'Unification', 'Language', 'and', 'Complexity', 'Semantics', 'and', 'Pragmatics', 'Representing', 'Meaning', 'Computational', 'Semantics', 'Lexical', 'Semantics', 'Computational', 'Lexical', 'Semantics', 'Computational', 'Discourse', 'Applications', 'Information', 'Extraction', 'Question', 'Answering', 'and', 'Summarization', 'Dialogue', 'and', 'Conversational', 'Agents', 'Machine', 'Translation', 'Bibliography', 'Index']\n",
            "100\n",
            "80\n"
          ],
          "name": "stdout"
        }
      ]
    },
    {
      "cell_type": "code",
      "metadata": {
        "id": "3Ac31bmqn-Cm",
        "colab_type": "code",
        "colab": {}
      },
      "source": [
        "bigram_slp3 = list(nltk.bigrams(words_slp3))\n",
        "bigram_slp2 = list(nltk.bigrams(words_slp2))"
      ],
      "execution_count": 0,
      "outputs": []
    },
    {
      "cell_type": "code",
      "metadata": {
        "id": "v8OXj7Hzn-GU",
        "colab_type": "code",
        "colab": {
          "base_uri": "https://localhost:8080/",
          "height": 54
        },
        "outputId": "51975a7e-1137-4b89-9617-d44cd905e570"
      },
      "source": [
        "print(bigram_slp3)"
      ],
      "execution_count": 9,
      "outputs": [
        {
          "output_type": "stream",
          "text": [
            "[('Summary', 'of'), ('of', 'Contents'), ('Contents', 'Introduction'), ('Introduction', 'Regular'), ('Regular', 'Expressions'), ('Expressions', 'Text'), ('Text', 'Normalization'), ('Normalization', 'Edit'), ('Edit', 'Distance'), ('Distance', 'N-gram'), ('N-gram', 'Language'), ('Language', 'Models'), ('Models', 'Naive'), ('Naive', 'Bayes'), ('Bayes', 'and'), ('and', 'Sentiment'), ('Sentiment', 'Classification'), ('Classification', 'Logistic'), ('Logistic', 'Regression'), ('Regression', 'Vector'), ('Vector', 'Semantics'), ('Semantics', 'and'), ('and', 'Embeddings'), ('Embeddings', 'Neural'), ('Neural', 'Networks'), ('Networks', 'and'), ('and', 'Neural'), ('Neural', 'Language'), ('Language', 'Models'), ('Models', 'Part-of-Speech'), ('Part-of-Speech', 'Tagging'), ('Tagging', 'Sequence'), ('Sequence', 'Processing'), ('Processing', 'with'), ('with', 'Recurrent'), ('Recurrent', 'Networks'), ('Networks', 'Encoder-Decoder'), ('Encoder-Decoder', 'Models'), ('Models', 'Attention'), ('Attention', 'and'), ('and', 'Contextual'), ('Contextual', 'Embeddings'), ('Embeddings', 'Machine'), ('Machine', 'Translation'), ('Translation', 'Constituency'), ('Constituency', 'Grammars'), ('Grammars', 'Constituency'), ('Constituency', 'Parsing'), ('Parsing', 'Statistical'), ('Statistical', 'Constituency'), ('Constituency', 'Parsing'), ('Parsing', 'Dependency'), ('Dependency', 'Parsing'), ('Parsing', 'Logical'), ('Logical', 'Representations'), ('Representations', 'of'), ('of', 'Sentence'), ('Sentence', 'Meaning'), ('Meaning', 'Computational'), ('Computational', 'Semantics'), ('Semantics', 'and'), ('and', 'Semantic'), ('Semantic', 'Parsing'), ('Parsing', 'Information'), ('Information', 'Extraction'), ('Extraction', 'Word'), ('Word', 'Senses'), ('Senses', 'and'), ('and', 'WordNet'), ('WordNet', 'Semantic'), ('Semantic', 'Role'), ('Role', 'Labeling'), ('Labeling', 'Lexicons'), ('Lexicons', 'for'), ('for', 'Sentiment'), ('Sentiment', 'Affect'), ('Affect', 'and'), ('and', 'Connotation'), ('Connotation', 'Coreference'), ('Coreference', 'Resolution'), ('Resolution', 'Discourse'), ('Discourse', 'Coherence'), ('Coherence', 'Summarization'), ('Summarization', 'Question'), ('Question', 'Answering'), ('Answering', 'Dialogue'), ('Dialogue', 'Systems'), ('Systems', 'and'), ('and', 'Chatbots'), ('Chatbots', 'Phonetics'), ('Phonetics', 'Speech'), ('Speech', 'Recognition'), ('Recognition', 'and'), ('and', 'Synthesis'), ('Synthesis', 'Appendix'), ('Appendix', 'A'), ('A', 'Hidden'), ('Hidden', 'Markov'), ('Markov', 'Models')]\n"
          ],
          "name": "stdout"
        }
      ]
    },
    {
      "cell_type": "code",
      "metadata": {
        "id": "O6Q5up_Qn-JK",
        "colab_type": "code",
        "colab": {
          "base_uri": "https://localhost:8080/",
          "height": 54
        },
        "outputId": "34863b98-a477-4fe7-e5ee-8e60a56d6686"
      },
      "source": [
        "print(bigram_slp2)"
      ],
      "execution_count": 10,
      "outputs": [
        {
          "output_type": "stream",
          "text": [
            "[('Summary', 'of'), ('of', 'Contents'), ('Contents', 'Preface'), ('Preface', 'Introduction'), ('Introduction', 'Words'), ('Words', 'Regular'), ('Regular', 'Expressions'), ('Expressions', 'and'), ('and', 'Automata'), ('Automata', 'Words'), ('Words', 'Transducers'), ('Transducers', 'N-grams'), ('N-grams', 'Part-of-Speech'), ('Part-of-Speech', 'Tagging'), ('Tagging', 'Hidden'), ('Hidden', 'Markov'), ('Markov', 'and'), ('and', 'Maximum'), ('Maximum', 'Entropy'), ('Entropy', 'Models'), ('Models', 'Speech'), ('Speech', 'Phonetics'), ('Phonetics', 'Speech'), ('Speech', 'Synthesis'), ('Synthesis', 'Automatic'), ('Automatic', 'Speech'), ('Speech', 'Recognition'), ('Recognition', 'Speech'), ('Speech', 'Recognition'), ('Recognition', 'Advanced'), ('Advanced', 'Topics'), ('Topics', 'Computational'), ('Computational', 'Phonology'), ('Phonology', 'Syntax'), ('Syntax', 'Formal'), ('Formal', 'Grammars'), ('Grammars', 'of'), ('of', 'English'), ('English', 'Parsing'), ('Parsing', 'with'), ('with', 'Context-Free'), ('Context-Free', 'Grammars'), ('Grammars', 'Statistical'), ('Statistical', 'Parsing'), ('Parsing', 'Features'), ('Features', 'and'), ('and', 'Unification'), ('Unification', 'Language'), ('Language', 'and'), ('and', 'Complexity'), ('Complexity', 'Semantics'), ('Semantics', 'and'), ('and', 'Pragmatics'), ('Pragmatics', 'Representing'), ('Representing', 'Meaning'), ('Meaning', 'Computational'), ('Computational', 'Semantics'), ('Semantics', 'Lexical'), ('Lexical', 'Semantics'), ('Semantics', 'Computational'), ('Computational', 'Lexical'), ('Lexical', 'Semantics'), ('Semantics', 'Computational'), ('Computational', 'Discourse'), ('Discourse', 'Applications'), ('Applications', 'Information'), ('Information', 'Extraction'), ('Extraction', 'Question'), ('Question', 'Answering'), ('Answering', 'and'), ('and', 'Summarization'), ('Summarization', 'Dialogue'), ('Dialogue', 'and'), ('and', 'Conversational'), ('Conversational', 'Agents'), ('Agents', 'Machine'), ('Machine', 'Translation'), ('Translation', 'Bibliography'), ('Bibliography', 'Index')]\n"
          ],
          "name": "stdout"
        }
      ]
    },
    {
      "cell_type": "code",
      "metadata": {
        "id": "w9zEjZuZn-Mz",
        "colab_type": "code",
        "colab": {}
      },
      "source": [
        "slp3_bigram = []\n",
        "for thing in bigram_slp3:\n",
        "  temp = []\n",
        "  for stuff in thing:\n",
        "    temp.append(stuff.lower())\n",
        "  slp3_bigram.append(temp)\n",
        "\n",
        "slp2_bigram = []\n",
        "for thing in bigram_slp2:\n",
        "  temp = []\n",
        "  for stuff in thing:\n",
        "      temp.append(stuff.lower())\n",
        "  slp2_bigram.append(temp)"
      ],
      "execution_count": 0,
      "outputs": []
    },
    {
      "cell_type": "code",
      "metadata": {
        "id": "01hQT-ewn-PU",
        "colab_type": "code",
        "colab": {
          "base_uri": "https://localhost:8080/",
          "height": 394
        },
        "outputId": "0a997ab5-e9d2-4d89-ca0d-a9d97f01e63d"
      },
      "source": [
        "!wget \"https://raw.githubusercontent.com/udacity/deep-learning/master/sentiment-network/reviews.txt\"\n",
        "!cat reviews.txt | head"
      ],
      "execution_count": 17,
      "outputs": [
        {
          "output_type": "stream",
          "text": [
            "--2020-01-27 01:35:34--  https://raw.githubusercontent.com/udacity/deep-learning/master/sentiment-network/reviews.txt\n",
            "Resolving raw.githubusercontent.com (raw.githubusercontent.com)... 151.101.0.133, 151.101.64.133, 151.101.128.133, ...\n",
            "Connecting to raw.githubusercontent.com (raw.githubusercontent.com)|151.101.0.133|:443... connected.\n",
            "HTTP request sent, awaiting response... 200 OK\n",
            "Length: 33678267 (32M) [text/plain]\n",
            "Saving to: ‘reviews.txt’\n",
            "\n",
            "reviews.txt         100%[===================>]  32.12M   129MB/s    in 0.2s    \n",
            "\n",
            "2020-01-27 01:35:37 (129 MB/s) - ‘reviews.txt’ saved [33678267/33678267]\n",
            "\n",
            "bromwell high is a cartoon comedy . it ran at the same time as some other programs about school life  such as  teachers  . my   years in the teaching profession lead me to believe that bromwell high  s satire is much closer to reality than is  teachers  . the scramble to survive financially  the insightful students who can see right through their pathetic teachers  pomp  the pettiness of the whole situation  all remind me of the schools i knew and their students . when i saw the episode in which a student repeatedly tried to burn down the school  i immediately recalled . . . . . . . . . at . . . . . . . . . . high . a classic line inspector i  m here to sack one of your teachers . student welcome to bromwell high . i expect that many adults of my age think that bromwell high is far fetched . what a pity that it isn  t   \n",
            "story of a man who has unnatural feelings for a pig . starts out with a opening scene that is a terrific example of absurd comedy . a formal orchestra audience is turned into an insane  violent mob by the crazy chantings of it  s singers . unfortunately it stays absurd the whole time with no general narrative eventually making it just too off putting . even those from the era should be turned off . the cryptic dialogue would make shakespeare seem easy to a third grader . on a technical level it  s better than you might think with some good cinematography by future great vilmos zsigmond . future stars sally kirkland and frederic forrest can be seen briefly .  \n",
            "homelessness  or houselessness as george carlin stated  has been an issue for years but never a plan to help those on the street that were once considered human who did everything from going to school  work  or vote for the matter . most people think of the homeless as just a lost cause while worrying about things such as racism  the war on iraq  pressuring kids to succeed  technology  the elections  inflation  or worrying if they  ll be next to end up on the streets .  br    br   but what if you were given a bet to live on the streets for a month without the luxuries you once had from a home  the entertainment sets  a bathroom  pictures on the wall  a computer  and everything you once treasure to see what it  s like to be homeless  that is goddard bolt  s lesson .  br    br   mel brooks  who directs  who stars as bolt plays a rich man who has everything in the world until deciding to make a bet with a sissy rival  jeffery tambor  to see if he can live in the streets for thirty days without the luxuries if bolt succeeds  he can do what he wants with a future project of making more buildings . the bet  s on where bolt is thrown on the street with a bracelet on his leg to monitor his every move where he can  t step off the sidewalk . he  s given the nickname pepto by a vagrant after it  s written on his forehead where bolt meets other characters including a woman by the name of molly  lesley ann warren  an ex  dancer who got divorce before losing her home  and her pals sailor  howard morris  and fumes  teddy wilson  who are already used to the streets . they  re survivors . bolt isn  t . he  s not used to reaching mutual agreements like he once did when being rich where it  s fight or flight  kill or be killed .  br    br   while the love connection between molly and bolt wasn  t necessary to plot  i found  life stinks  to be one of mel brooks  observant films where prior to being a comedy  it shows a tender side compared to his slapstick work such as blazing saddles  young frankenstein  or spaceballs for the matter  to show what it  s like having something valuable before losing it the next day or on the other hand making a stupid bet like all rich people do when they don  t know what to do with their money . maybe they should give it to the homeless instead of using it like monopoly money .  br    br   or maybe this film will inspire you to help others .  \n",
            "airport    starts as a brand new luxury    plane is loaded up with valuable paintings  such belonging to rich businessman philip stevens  james stewart  who is flying them  a bunch of vip  s to his estate in preparation of it being opened to the public as a museum  also on board is stevens daughter julie  kathleen quinlan   her son . the luxury jetliner takes off as planned but mid  air the plane is hi  jacked by the co  pilot chambers  robert foxworth   his two accomplice  s banker  monte markham   wilson  michael pataki  who knock the passengers  crew out with sleeping gas  they plan to steal the valuable cargo  land on a disused plane strip on an isolated island but while making his descent chambers almost hits an oil rig in the ocean  loses control of the plane sending it crashing into the sea where it sinks to the bottom right bang in the middle of the bermuda triangle . with air in short supply  water leaking in  having flown over    miles off course the problems mount for the survivor  s as they await help with time fast running out . . .  br    br   also known under the slightly different tile airport     this second sequel to the smash  hit disaster thriller airport       was directed by jerry jameson  while once again like it  s predecessors i can  t say airport    is any sort of forgotten classic it is entertaining although not necessarily for the right reasons . out of the three airport films i have seen so far i actually liked this one the best  just . it has my favourite plot of the three with a nice mid  air hi  jacking  then the crashing  didn  t he see the oil rig    sinking of the     maybe the makers were trying to cross the original airport with another popular disaster flick of the period the poseidon adventure         submerged is where it stays until the end with a stark dilemma facing those trapped inside  either suffocate when the air runs out or drown as the    floods or if any of the doors are opened  it  s a decent idea that could have made for a great little disaster flick but bad unsympathetic character  s  dull dialogue  lethargic set  pieces  a real lack of danger or suspense or tension means this is a missed opportunity . while the rather sluggish plot keeps one entertained for    odd minutes not that much happens after the plane sinks  there  s not as much urgency as i thought there should have been . even when the navy become involved things don  t pick up that much with a few shots of huge ships  helicopters flying about but there  s just something lacking here . george kennedy as the jinxed airline worker joe patroni is back but only gets a couple of scenes  barely even says anything preferring to just look worried in the background .  br    br   the home video  theatrical version of airport    run    minutes while the us tv versions add an extra hour of footage including a new opening credits sequence  many more scenes with george kennedy as patroni  flashbacks to flesh out character  s  longer rescue scenes  the discovery or another couple of dead bodies including the navigator . while i would like to see this extra footage i am not sure i could sit through a near three hour cut of airport    . as expected the film has dated badly with horrible fashions  interior design choices  i will say no more other than the toy plane model effects aren  t great either . along with the other two airport sequels this takes pride of place in the razzie award  s hall of shame although i can think of lots of worse films than this so i reckon that  s a little harsh . the action scenes are a little dull unfortunately  the pace is slow  not much excitement or tension is generated which is a shame as i reckon this could have been a pretty good film if made properly .  br    br   the production values are alright if nothing spectacular . the acting isn  t great  two time oscar winner jack lemmon has said since it was a mistake to star in this  one time oscar winner james stewart looks old  frail  also one time oscar winner lee grant looks drunk while sir christopher lee is given little to do  there are plenty of other familiar faces to look out for too .  br    br   airport    is the most disaster orientated of the three airport films so far  i liked the ideas behind it even if they were a bit silly  the production  bland direction doesn  t help though  a film about a sunken plane just shouldn  t be this boring or lethargic . followed by the concorde . . . airport          .  \n",
            "brilliant over  acting by lesley ann warren . best dramatic hobo lady i have ever seen  and love scenes in clothes warehouse are second to none . the corn on face is a classic  as good as anything in blazing saddles . the take on lawyers is also superb . after being accused of being a turncoat  selling out his boss  and being dishonest the lawyer of pepto bolt shrugs indifferently  i  m a lawyer  he says . three funny words . jeffrey tambor  a favorite from the later larry sanders show  is fantastic here too as a mad millionaire who wants to crush the ghetto . his character is more malevolent than usual . the hospital scene  and the scene where the homeless invade a demolition site  are all  time classics . look for the legs scene and the two big diggers fighting  one bleeds  . this movie gets better each time i see it  which is quite often  .  \n",
            "this film lacked something i couldn  t put my finger on at first charisma on the part of the leading actress . this inevitably translated to lack of chemistry when she shared the screen with her leading man . even the romantic scenes came across as being merely the actors at play . it could very well have been the director who miscalculated what he needed from the actors . i just don  t know .  br    br   but could it have been the screenplay  just exactly who was the chef in love with  he seemed more enamored of his culinary skills and restaurant  and ultimately of himself and his youthful exploits  than of anybody or anything else . he never convinced me he was in love with the princess .  br    br   i was disappointed in this movie . but  don  t forget it was nominated for an oscar  so judge for yourself .  \n",
            "this is easily the most underrated film inn the brooks cannon . sure  its flawed . it does not give a realistic view of homelessness  unlike  say  how citizen kane gave a realistic view of lounge singers  or titanic gave a realistic view of italians you idiots  . many of the jokes fall flat . but still  this film is very lovable in a way many comedies are not  and to pull that off in a story about some of the most traditionally reviled members of society is truly impressive . its not the fisher king  but its not crap  either . my only complaint is that brooks should have cast someone else in the lead  i love mel as a director and writer  not so much as a lead  .  \n",
            "sorry everyone    i know this is supposed to be an  art  film   but wow  they should have handed out guns at the screening so people could blow their brains out and not watch . although the scene design and photographic direction was excellent  this story is too painful to watch . the absence of a sound track was brutal . the loooonnnnng shots were too long . how long can you watch two people just sitting there and talking  especially when the dialogue is two people complaining . i really had a hard time just getting through this film . the performances were excellent  but how much of that dark  sombre  uninspired  stuff can you take  the only thing i liked was maureen stapleton and her red dress and dancing scene . otherwise this was a ripoff of bergman . and i  m no fan f his either . i think anyone who says they enjoyed     hours of this is   well  lying .  \n",
            "this is not the typical mel brooks film . it was much less slapstick than most of his movies and actually had a plot that was followable . leslie ann warren made the movie  she is such a fantastic  under  rated actress . there were some moments that could have been fleshed out a bit more  and some scenes that could probably have been cut to make the room to do so  but all in all  this is worth the price to rent and see it . the acting was good overall  brooks himself did a good job without his characteristic speaking to directly to the audience . again  warren was the best actor in the movie  but  fume  and  sailor  both played their parts well .  \n",
            "when i was little my parents took me along to the theater to see interiors . it was one of many movies i watched with my parents  but this was the only one we walked out of . since then i had never seen interiors until just recently  and i could have lived out the rest of my life without it . what a pretentious  ponderous  and painfully boring piece of    s wine and cheese tripe . woody allen is one of my favorite directors but interiors is by far the worst piece of crap of his career . in the unmistakable style of ingmar berman  allen gives us a dark  angular  muted  insight in to the lives of a family wrought by the psychological damage caused by divorce  estrangement  career  love  non  love  halitosis  whatever . the film  intentionally  has no comic relief  no music  and is drenched in shadowy pathos . this film style can be best defined as expressionist in nature  using an improvisational method of dialogue to illicit a  more pronounced depth of meaning and truth  . but woody allen is no ingmar bergman . the film is painfully slow and dull . but beyond that  i simply had no connection with or sympathy for any of the characters . instead i felt only contempt for this parade of shuffling  whining  nicotine stained  martyrs in a perpetual quest for identity . amid a backdrop of cosmopolitan affluence and baked brie intelligentsia the story looms like a fart in the room . everyone speaks in affected platitudes and elevated language between cigarettes . everyone is  lost  and  struggling   desperate to find direction or understanding or whatever and it just goes on and on to the point where you just want to slap all of them . it  s never about resolution  it  s only about interminable introspective babble . it is nothing more than a psychological drama taken to an extreme beyond the audience  s ability to connect . woody allen chose to make characters so immersed in themselves we feel left out . and for that reason i found this movie painfully self indulgent and spiritually draining . i see what he was going for but his insistence on promoting his message through prozac prose and distorted film techniques jettisons it past the point of relevance . i highly recommend this one if you  re feeling a little too happy and need something to remind you of death . otherwise  let  s just pretend this film never happened .  \n"
          ],
          "name": "stdout"
        }
      ]
    },
    {
      "cell_type": "code",
      "metadata": {
        "id": "cTF0pu9Ho7ex",
        "colab_type": "code",
        "colab": {
          "base_uri": "https://localhost:8080/",
          "height": 459
        },
        "outputId": "c7770862-2513-4921-ca24-42c93e5609c3"
      },
      "source": [
        "!wget \"https://raw.githubusercontent.com/udacity/deep-learning/master/sentiment-network/labels.txt\"\n",
        "!cat labels.txt | head -15"
      ],
      "execution_count": 18,
      "outputs": [
        {
          "output_type": "stream",
          "text": [
            "--2020-01-27 01:35:44--  https://raw.githubusercontent.com/udacity/deep-learning/master/sentiment-network/labels.txt\n",
            "Resolving raw.githubusercontent.com (raw.githubusercontent.com)... 151.101.0.133, 151.101.64.133, 151.101.128.133, ...\n",
            "Connecting to raw.githubusercontent.com (raw.githubusercontent.com)|151.101.0.133|:443... connected.\n",
            "HTTP request sent, awaiting response... 200 OK\n",
            "Length: 225000 (220K) [text/plain]\n",
            "Saving to: ‘labels.txt’\n",
            "\n",
            "\rlabels.txt            0%[                    ]       0  --.-KB/s               \rlabels.txt          100%[===================>] 219.73K  --.-KB/s    in 0.05s   \n",
            "\n",
            "2020-01-27 01:35:44 (4.35 MB/s) - ‘labels.txt’ saved [225000/225000]\n",
            "\n",
            "positive\n",
            "negative\n",
            "positive\n",
            "negative\n",
            "positive\n",
            "negative\n",
            "positive\n",
            "negative\n",
            "positive\n",
            "negative\n",
            "positive\n",
            "negative\n",
            "positive\n",
            "negative\n",
            "positive\n"
          ],
          "name": "stdout"
        }
      ]
    },
    {
      "cell_type": "code",
      "metadata": {
        "id": "UFBx1OI9o9Sn",
        "colab_type": "code",
        "colab": {}
      },
      "source": [
        "def pretty_print_review_and_label(i):\n",
        "   print(labels[i] + \"\\t:\\t\" + reviews[i][:80] + \"...\")\n",
        "\n",
        "g = open('reviews.txt','r') # What we know!\n",
        "reviews = list(map(lambda x:x[:-1],g.readlines()))\n",
        "g.close()\n",
        "\n",
        "g = open('labels.txt','r') # What we WANT to know!\n",
        "labels = list(map(lambda x:x[:-1].upper(),g.readlines()))\n",
        "g.close()"
      ],
      "execution_count": 0,
      "outputs": []
    },
    {
      "cell_type": "code",
      "metadata": {
        "id": "wKl6X1tZo9V-",
        "colab_type": "code",
        "colab": {
          "base_uri": "https://localhost:8080/",
          "height": 71
        },
        "outputId": "5d3b7585-598f-4f56-a321-f137014b1e73"
      },
      "source": [
        "import sys,random,math\n",
        "from collections import Counter\n",
        "import numpy as np\n",
        "\n",
        "np.random.seed(1)\n",
        "random.seed(1)\n",
        "f = open('reviews.txt')\n",
        "raw_reviews = f.readlines()\n",
        "f.close()\n",
        "\n",
        "print(raw_reviews[1])"
      ],
      "execution_count": 20,
      "outputs": [
        {
          "output_type": "stream",
          "text": [
            "story of a man who has unnatural feelings for a pig . starts out with a opening scene that is a terrific example of absurd comedy . a formal orchestra audience is turned into an insane  violent mob by the crazy chantings of it  s singers . unfortunately it stays absurd the whole time with no general narrative eventually making it just too off putting . even those from the era should be turned off . the cryptic dialogue would make shakespeare seem easy to a third grader . on a technical level it  s better than you might think with some good cinematography by future great vilmos zsigmond . future stars sally kirkland and frederic forrest can be seen briefly .  \n",
            "\n"
          ],
          "name": "stdout"
        }
      ]
    },
    {
      "cell_type": "code",
      "metadata": {
        "id": "m-HWZFqLo9Y8",
        "colab_type": "code",
        "colab": {
          "base_uri": "https://localhost:8080/",
          "height": 34
        },
        "outputId": "48a99bea-58e0-4627-bdce-ea7019663640"
      },
      "source": [
        "tokens = list(map(lambda x:(x.split(\" \")),raw_reviews))\n",
        "wordcnt = Counter()\n",
        "for sent in tokens:\n",
        "    for word in sent:\n",
        "        wordcnt[word] -= 1\n",
        "vocab = list(set(map(lambda x:x[0],wordcnt.most_common())))\n",
        "\n",
        "print(len(vocab))"
      ],
      "execution_count": 21,
      "outputs": [
        {
          "output_type": "stream",
          "text": [
            "74075\n"
          ],
          "name": "stdout"
        }
      ]
    },
    {
      "cell_type": "code",
      "metadata": {
        "id": "tty8p4Feo9bf",
        "colab_type": "code",
        "colab": {}
      },
      "source": [
        "word2index = {}\n",
        "for i,word in enumerate(vocab):\n",
        "    word2index[word]=i"
      ],
      "execution_count": 0,
      "outputs": []
    },
    {
      "cell_type": "code",
      "metadata": {
        "id": "uNemDISCo9eZ",
        "colab_type": "code",
        "colab": {}
      },
      "source": [
        "concatenated = list()\n",
        "input_dataset = list()\n",
        "for sent in tokens:\n",
        "    sent_indices = list()\n",
        "    for word in sent:\n",
        "        try:\n",
        "            sent_indices.append(word2index[word])\n",
        "            concatenated.append(word2index[word])\n",
        "        except:\n",
        "            \"\"\n",
        "    input_dataset.append(sent_indices)\n",
        "concatenated = np.array(concatenated)\n",
        "random.shuffle(input_dataset)"
      ],
      "execution_count": 0,
      "outputs": []
    },
    {
      "cell_type": "code",
      "metadata": {
        "id": "8He6QA8to9iS",
        "colab_type": "code",
        "colab": {}
      },
      "source": [
        "alpha, iterations = (0.05, 2)\n",
        "hidden_size,window,negative = (50,2,5)  \n",
        "\n",
        "weights_0_1 = (np.random.rand(len(vocab),hidden_size) - 0.5) * 0.2\n",
        "weights_1_2 = np.random.rand(len(vocab),hidden_size)*0\n",
        "\n",
        "layer_2_target = np.zeros(negative+1)\n",
        "layer_2_target[0] = 1"
      ],
      "execution_count": 0,
      "outputs": []
    },
    {
      "cell_type": "code",
      "metadata": {
        "id": "72f9qu-Po9lj",
        "colab_type": "code",
        "colab": {}
      },
      "source": [
        "def similar(target='beautiful'):\n",
        "  target_index = word2index[target]\n",
        "\n",
        "  scores = Counter()\n",
        "  for word,index in word2index.items():\n",
        "    raw_difference = weights_0_1[index] - (weights_0_1[target_index])\n",
        "    squared_difference = raw_difference * raw_difference\n",
        "    scores[word] = -math.sqrt(sum(squared_difference))\n",
        "  return scores.most_common(10)"
      ],
      "execution_count": 0,
      "outputs": []
    },
    {
      "cell_type": "code",
      "metadata": {
        "id": "quEl_V50o9ox",
        "colab_type": "code",
        "colab": {}
      },
      "source": [
        "def sigmoid(x):\n",
        "    return 1/(1 + np.exp(-x))"
      ],
      "execution_count": 0,
      "outputs": []
    },
    {
      "cell_type": "code",
      "metadata": {
        "id": "G4PPUncOo97g",
        "colab_type": "code",
        "colab": {
          "base_uri": "https://localhost:8080/",
          "height": 54
        },
        "outputId": "93e5509c-2675-47ff-fbb5-d411cd771193"
      },
      "source": [
        "for rev_i,review in enumerate(input_dataset * iterations):\n",
        "  for target_i in range(len(review)):\n",
        "        \n",
        "    # since it's really expensive to predict every vocabulary\n",
        "    # we're only going to predict a random subset\n",
        "    target_samples = [review[target_i]]+list(concatenated\\\n",
        "    [(np.random.rand(negative)*len(concatenated)).astype('int').tolist()])\n",
        "\n",
        "    left_context = review[max(0,target_i-window):target_i]\n",
        "    right_context = review[target_i+1:min(len(review),target_i+window)]\n",
        "\n",
        "    layer_1 = np.mean(weights_0_1[left_context+right_context],axis=0)\n",
        "    layer_2 = sigmoid(layer_1.dot(weights_1_2[target_samples].T))\n",
        "    layer_2_delta = layer_2 - layer_2_target\n",
        "    layer_1_delta = layer_2_delta.dot(weights_1_2[target_samples])\n",
        "\n",
        "    weights_0_1[left_context+right_context] -= layer_1_delta * alpha\n",
        "    weights_1_2[target_samples] -= np.outer(layer_2_delta,layer_1)*alpha\n",
        "\n",
        "  if(rev_i % 1000 == 0):\n",
        "    sys.stdout.write('\\rProgress:'+str(rev_i/float(len(input_dataset)\n",
        "        *iterations)) + \"   \" + str(similar('terrible')))\n",
        "    #sys.stdout.write('\\rProgress:'+str(rev_i/float(len(input_dataset)*iterations)))\n",
        "    #print(similar('terrible'))"
      ],
      "execution_count": 27,
      "outputs": [
        {
          "output_type": "stream",
          "text": [
            "Progress:0.98   [('terrible', -0.0), ('horrible', -2.989534378608314), ('superb', -3.3629448081895643), ('brilliant', -3.6806391066513857), ('masterful', -3.7025514818492735), ('pathetic', -3.7292456061710917), ('phenomenal', -3.8450381818850565), ('magnificent', -3.8695874987001564), ('terrific', -3.928576852553708), ('horrendous', -3.9528532200497812)]"
          ],
          "name": "stdout"
        }
      ]
    },
    {
      "cell_type": "code",
      "metadata": {
        "id": "jOcQ55n4pIjZ",
        "colab_type": "code",
        "colab": {}
      },
      "source": [
        "temp = word2index.items()"
      ],
      "execution_count": 0,
      "outputs": []
    },
    {
      "cell_type": "code",
      "metadata": {
        "id": "bcbV1PstpImt",
        "colab_type": "code",
        "colab": {
          "base_uri": "https://localhost:8080/",
          "height": 34
        },
        "outputId": "1d7310d8-acbe-4e1f-8365-e34c4bea6a5a"
      },
      "source": [
        "test_vocab = list()\n",
        "for thing in temp:\n",
        "  test_vocab.append(thing[0])\n",
        "print(len(test_vocab))"
      ],
      "execution_count": 48,
      "outputs": [
        {
          "output_type": "stream",
          "text": [
            "74075\n"
          ],
          "name": "stdout"
        }
      ]
    },
    {
      "cell_type": "code",
      "metadata": {
        "id": "DfMOYrtbpIpx",
        "colab_type": "code",
        "colab": {
          "base_uri": "https://localhost:8080/",
          "height": 34
        },
        "outputId": "0d4dc704-6b42-49d8-ff7b-7ee4fb2af414"
      },
      "source": [
        "print(len(slp2_bigram))\n",
        "word_index = list()\n",
        "for i in range(len(slp2_bigram)):\n",
        "  if slp2_bigram[i][0] in test_vocab and slp2_bigram[i][1] in test_vocab:\n",
        "    pair_index = list()\n",
        "    pair_index.append(word2index[slp2_bigram[i][0]])\n",
        "    pair_index.append(word2index[slp2_bigram[i][1]])\n",
        "    word_index.append(pair_index)\n",
        "  elif slp2_bigram[i][0] not in test_vocab or slp2_bigram[i][1] not in test_vocab:\n",
        "    word_index.append('N/A')"
      ],
      "execution_count": 49,
      "outputs": [
        {
          "output_type": "stream",
          "text": [
            "79\n"
          ],
          "name": "stdout"
        }
      ]
    },
    {
      "cell_type": "code",
      "metadata": {
        "id": "ADURPboIpIte",
        "colab_type": "code",
        "colab": {
          "base_uri": "https://localhost:8080/",
          "height": 34
        },
        "outputId": "699e7221-caf3-460c-ac91-68a898288673"
      },
      "source": [
        "print(len(word_index))"
      ],
      "execution_count": 50,
      "outputs": [
        {
          "output_type": "stream",
          "text": [
            "79\n"
          ],
          "name": "stdout"
        }
      ]
    },
    {
      "cell_type": "code",
      "metadata": {
        "id": "Vq16BvQGpIv2",
        "colab_type": "code",
        "colab": {}
      },
      "source": [
        "from sklearn.metrics.pairwise import cosine_similarity\n",
        "\n",
        "grokking_scores_slp2 = list()\n",
        "for thing in word_index:\n",
        "  if thing == 'N/A':\n",
        "    grokking_scores_slp2.append('N/A')\n",
        "  else:\n",
        "    embed_word1 = weights_0_1[thing[0]].reshape(1, -1)\n",
        "    embed_word2 = weights_0_1[thing[1]].reshape(1, -1)\n",
        "    similarity_score = cosine_similarity(embed_word1, embed_word2)\n",
        "    grokking_scores_slp2.append(float(similarity_score))"
      ],
      "execution_count": 0,
      "outputs": []
    },
    {
      "cell_type": "code",
      "metadata": {
        "id": "5Hpg7vKgppGd",
        "colab_type": "code",
        "colab": {
          "base_uri": "https://localhost:8080/",
          "height": 34
        },
        "outputId": "555eb7cb-f9a7-4fa8-a422-dda86c267e57"
      },
      "source": [
        "print(len(slp3_bigram))\n",
        "word_index = list()\n",
        "for i in range(len(slp3_bigram)):\n",
        "  if slp3_bigram[i][0] in test_vocab and slp3_bigram[i][1] in test_vocab:\n",
        "    pair_index = list()\n",
        "    pair_index.append(word2index[slp3_bigram[i][0]])\n",
        "    pair_index.append(word2index[slp3_bigram[i][1]])\n",
        "    word_index.append(pair_index)\n",
        "  elif slp3_bigram[i][0] not in test_vocab or slp3_bigram[i][1] not in test_vocab:\n",
        "    word_index.append('N/A')"
      ],
      "execution_count": 52,
      "outputs": [
        {
          "output_type": "stream",
          "text": [
            "99\n"
          ],
          "name": "stdout"
        }
      ]
    },
    {
      "cell_type": "code",
      "metadata": {
        "id": "br1rfSC8ppJh",
        "colab_type": "code",
        "colab": {
          "base_uri": "https://localhost:8080/",
          "height": 34
        },
        "outputId": "1e7de5ff-9779-4b89-f5d2-980c9abb23a7"
      },
      "source": [
        "print(len(word_index))"
      ],
      "execution_count": 53,
      "outputs": [
        {
          "output_type": "stream",
          "text": [
            "99\n"
          ],
          "name": "stdout"
        }
      ]
    },
    {
      "cell_type": "code",
      "metadata": {
        "id": "ebAzqh20ppMi",
        "colab_type": "code",
        "colab": {}
      },
      "source": [
        "grokking_scores_slp3 = list()\n",
        "for thing in word_index:\n",
        "  if thing == 'N/A':\n",
        "    grokking_scores_slp3.append('N/A')\n",
        "  else:\n",
        "    embed_word1 = weights_0_1[thing[0]].reshape(1, -1)\n",
        "    embed_word2 = weights_0_1[thing[1]].reshape(1, -1)\n",
        "    similarity_score = cosine_similarity(embed_word1, embed_word2)\n",
        "    grokking_scores_slp3.append(float(similarity_score))"
      ],
      "execution_count": 0,
      "outputs": []
    },
    {
      "cell_type": "code",
      "metadata": {
        "id": "Osz5a0-DppQh",
        "colab_type": "code",
        "colab": {
          "base_uri": "https://localhost:8080/",
          "height": 71
        },
        "outputId": "34150e8d-e26e-4714-bda1-b47fc2b5d092"
      },
      "source": [
        "print(grokking_scores_slp2)\n",
        "print(grokking_scores_slp3)"
      ],
      "execution_count": 64,
      "outputs": [
        {
          "output_type": "stream",
          "text": [
            "[-0.1143496538696755, 0.17752636931669466, 0.37335938990446554, 0.34207447388307766, 0.44601858862942806, 0.03212878781184937, -0.007567633004109297, 0.06920579607701094, -0.032900264567279555, -0.05405586526876921, 'N/A', 'N/A', 'N/A', 'N/A', 0.04811862395664601, 0.012226802827528686, 0.08340007365150712, -0.15138382740288903, 0.17169564205909418, 0.08506237089650817, 0.2041569526836868, 'N/A', 'N/A', 0.24803454626027605, 0.002971637788433054, -0.007684738373252568, 0.347956966098764, 0.347956966098764, 0.347956966098764, 0.2793700981781737, 0.13030782633757615, -0.12442410221831031, 'N/A', 'N/A', 0.29238375630001684, 'N/A', 'N/A', 0.029038149412569915, 0.014921177638250148, -0.11118328207110001, 'N/A', 'N/A', 'N/A', 0.4490350056023528, 0.26466070405395264, -0.08461360523775105, 0.08513687504613725, -0.0015266954267450592, 0.006272387857923374, -0.057954900088020796, 0.061764542355996065, 0.039486192646643395, -0.0870352942731087, 0.09736235491107614, 0.23532050735451382, -0.04407038676682857, 0.17869066363324632, 'N/A', 'N/A', 0.17869066363324632, 'N/A', 'N/A', 0.17869066363324632, 0.124119051864764, 0.05413494609272369, -0.07378235878990304, -0.2851017212271096, -0.05062508578405889, 0.19553713952241222, -0.04789075293416586, 0.09651189813867356, 0.04869121386500659, 0.10379248354631751, 0.040153346886239234, -0.15225587462295118, 0.007385270958297278, 0.11136943402875142, 'N/A', 'N/A']\n",
            "[-0.1143496538696755, 0.17752636931669466, 0.28887008441752965, 0.05639419474979275, -0.007567633004109297, 0.08705026456105301, 'N/A', 'N/A', 0.3047917606988373, 'N/A', 'N/A', 0.16462770395249202, 0.26046828992295895, 'N/A', 'N/A', -0.047016133596118365, 0.028353662260083415, 'N/A', 'N/A', 'N/A', 'N/A', 0.039486192646643395, 'N/A', 'N/A', -0.10383722726401472, -0.13804045092169973, 0.1483588166704707, -0.022170583941974114, 0.16462770395249202, 'N/A', 'N/A', -0.13291468383722413, 0.12320535336860414, -0.14011714274141088, 0.035282962440318553, -0.01752094222780464, 'N/A', 'N/A', 0.13333145270462962, -0.09928690249454591, 0.032916964682878816, 'N/A', 'N/A', 0.11136943402875142, 'N/A', 'N/A', 'N/A', 'N/A', 0.4490350056023528, 'N/A', 'N/A', 0.1383045187301847, 0.1383045187301847, 0.012563140369099763, 0.0815770160401016, -0.2704221750531303, 0.1420323277616387, 0.08697757657859877, -0.04407038676682857, 0.17869066363324632, 0.039486192646643395, 0.02512970012443374, 0.15210652064478847, 0.03781032714956884, -0.2851017212271096, -0.006818981755441836, 0.24854037579152338, -0.0218709330753685, 'N/A', 'N/A', 0.23063699917988023, 0.17231257955485726, 'N/A', 'N/A', 0.006450862157785174, 0.021306780665195812, -0.17684833578132814, 0.0834255748499625, 'N/A', 'N/A', 0.24017065082246344, 0.10323566578665307, 0.17939983842210835, 0.08443801322145239, 0.19553713952241222, 0.006539928782788059, 0.11774214872459654, -0.10464365736526808, 'N/A', 'N/A', 'N/A', 0.347956966098764, -0.012584374832893467, -0.04737098302297879, 0.30659695726509406, -0.028068135993300575, 0.10671813017894205, 0.012226802827528686, -0.21938149594695938]\n"
          ],
          "name": "stdout"
        }
      ]
    },
    {
      "cell_type": "code",
      "metadata": {
        "id": "6vLA7SWJppTU",
        "colab_type": "code",
        "colab": {}
      },
      "source": [
        "import pandas as pd\n",
        "\n",
        "d_grokking_slp2 = {'SLP2_word_pairs': slp2_bigram, 'SLP2': grokking_scores_slp2}\n",
        "df_grokking_slp2 = pd.DataFrame(data = d_grokking_slp2)\n",
        "d_grokking_slp3 = {'SLP3_word_pairs': slp3_bigram, 'SLP3': grokking_scores_slp3}\n",
        "df_grokking_slp3 = pd.DataFrame(data = d_grokking_slp3)"
      ],
      "execution_count": 0,
      "outputs": []
    },
    {
      "cell_type": "code",
      "metadata": {
        "id": "deuOv9rEppVL",
        "colab_type": "code",
        "colab": {
          "base_uri": "https://localhost:8080/",
          "height": 493
        },
        "outputId": "12166b66-151c-4087-ce79-7363cd8d2f10"
      },
      "source": [
        "print(df_grokking_slp2)\n",
        "print(df_grokking_slp3)\n",
        "df_grokking_slp2.to_csv('/content/drive/My Drive/grokking_slp2.csv')\n",
        "df_grokking_slp3.to_csv('/content/drive/My Drive/grokking_slp3.csv')"
      ],
      "execution_count": 60,
      "outputs": [
        {
          "output_type": "stream",
          "text": [
            "                SLP2_word_pairs        SLP2\n",
            "0                 [summary, of]    -0.11435\n",
            "1                [of, contents]    0.177526\n",
            "2           [contents, preface]    0.373359\n",
            "3       [preface, introduction]    0.342074\n",
            "4         [introduction, words]    0.446019\n",
            "..                          ...         ...\n",
            "74     [conversational, agents]   -0.152256\n",
            "75            [agents, machine]  0.00738527\n",
            "76       [machine, translation]    0.111369\n",
            "77  [translation, bibliography]         N/A\n",
            "78        [bibliography, index]         N/A\n",
            "\n",
            "[79 rows x 2 columns]\n",
            "             SLP3_word_pairs        SLP3\n",
            "0              [summary, of]    -0.11435\n",
            "1             [of, contents]    0.177526\n",
            "2   [contents, introduction]     0.28887\n",
            "3    [introduction, regular]   0.0563942\n",
            "4     [regular, expressions] -0.00756763\n",
            "..                       ...         ...\n",
            "94     [synthesis, appendix]    0.306597\n",
            "95             [appendix, a]  -0.0280681\n",
            "96               [a, hidden]    0.106718\n",
            "97          [hidden, markov]   0.0122268\n",
            "98          [markov, models]   -0.219381\n",
            "\n",
            "[99 rows x 2 columns]\n"
          ],
          "name": "stdout"
        }
      ]
    },
    {
      "cell_type": "code",
      "metadata": {
        "id": "5wMAscC2ppYt",
        "colab_type": "code",
        "colab": {}
      },
      "source": [
        ""
      ],
      "execution_count": 0,
      "outputs": []
    },
    {
      "cell_type": "code",
      "metadata": {
        "id": "4iq6j7ampplA",
        "colab_type": "code",
        "colab": {}
      },
      "source": [
        ""
      ],
      "execution_count": 0,
      "outputs": []
    }
  ]
}